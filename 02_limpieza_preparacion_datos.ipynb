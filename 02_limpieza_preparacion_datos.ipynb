{
 "cells": [
  {
   "cell_type": "markdown",
   "id": "a90b06ad-fa85-45e2-8852-eeaca14359dc",
   "metadata": {},
   "source": [
    "# Limpieza y preparación de datos - Ecobici"
   ]
  },
  {
   "cell_type": "markdown",
   "id": "cd009fe3-d5e4-4d60-8283-0b3f0b3945c3",
   "metadata": {},
   "source": [
    "## Introducción"
   ]
  },
  {
   "cell_type": "markdown",
   "id": "35bbfc28-699c-4cbe-badf-0c7f526630c6",
   "metadata": {},
   "source": [
    "Este conjunto de datos fue obtenido de [Ecobici - Datos Abiertos](https://ecobici.cdmx.gob.mx/datos-abiertos/), contiene información histórica sobre los viajes realizados durante el mes de agosto de 2024.\n",
    "\n",
    "Las columnas que se encuentran son las siguientes:\n",
    "\n",
    "*   Genero_Usuario (Masculino = M, Femenino = F, Otro/prefiero no decir = O, ? )\n",
    "*   Edad_Usuario\n",
    "*   Bici\n",
    "*   Ciclo_Estacion_Retiro\n",
    "*   Fecha_Retiro\n",
    "*   Hora_Retiro\n",
    "*   Ciclo_EstacionArribo\n",
    "*   Fecha Arribo\n",
    "*   Hora_Arribo"
   ]
  },
  {
   "cell_type": "markdown",
   "id": "7e8e8fda-84f6-4634-9ae5-78c62191be5a",
   "metadata": {},
   "source": [
    "## Objetivos"
   ]
  },
  {
   "cell_type": "markdown",
   "id": "c9ad99e4-1167-4f9c-891b-b738d4228ea8",
   "metadata": {},
   "source": [
    "**Identificación y manejo de valores faltantes**\n",
    "\n",
    "- Detectar campos con valores nulos o vacíos\n",
    "- Decidir estrategia para cada tipo de valor faltante (eliminación, imputación, etc.)\n",
    "\n",
    "**Corrección de inconsistencias**\n",
    "\n",
    "- Verificar y corregir cualquier inconsistencia\n",
    "\n",
    "**Estandarización de formatos**\n",
    "\n",
    "- Unificar el formato de fechas (si aplica)\n",
    "- Normalizar los nombres de las columnas para facilitar el análisis\n",
    "\n",
    "**Verificación de integridad de datos**\n",
    "\n",
    "- Validar que los registros se encuentren en el rango de fecha correspondiente al mes de agosto 2024\n",
    "- Verificar que todas las ciclo estaciones tengan asignado un cluster, tanto de retiro como de arribo\n",
    "- Verificar que se cuente con ciclo estaciones de retiro/arribo válidas\n",
    "\n",
    "**Creación de variables**\n",
    "\n",
    "- Calcular la duración del viaje en minutos\n",
    "- Generar variables categóricas basadas en la edad de usuarios ('-18' | '18-23' | '24-34', etc)\n",
    "- Generar variables temporales: hora, día de la semana (número), día de la semana (nombre), aplica para retiros/arribos\n",
    "\n",
    "**Validación de datos limpios**\n"
   ]
  },
  {
   "cell_type": "markdown",
   "id": "24d871e6-1c1a-4e7a-bb97-aee21ea2c24f",
   "metadata": {},
   "source": [
    "## Dependencias"
   ]
  },
  {
   "cell_type": "code",
   "execution_count": 1,
   "id": "030a0de8-0a5a-4dcc-86ad-3e92fa5cad63",
   "metadata": {},
   "outputs": [],
   "source": [
    "import pandas as pd"
   ]
  },
  {
   "cell_type": "markdown",
   "id": "06dc6984-946d-4b4b-b79f-c6412fa50bba",
   "metadata": {},
   "source": [
    "## Cargando datos"
   ]
  },
  {
   "cell_type": "markdown",
   "id": "b2713aba-31c4-4ea7-8ea4-b851055b8dba",
   "metadata": {},
   "source": [
    "El archivo original está en formato **CSV**"
   ]
  },
  {
   "cell_type": "markdown",
   "id": "a2677f10-32cb-49a0-b226-4ee96b47ec6a",
   "metadata": {},
   "source": [
    "### Viajes"
   ]
  },
  {
   "cell_type": "code",
   "execution_count": 2,
   "id": "3f679402-9b9d-4335-bdde-ea9bf30773ea",
   "metadata": {},
   "outputs": [],
   "source": [
    "viajes_path = \"2024-08.csv\"\n",
    "df_viajes = pd.read_csv(viajes_path)"
   ]
  },
  {
   "cell_type": "markdown",
   "id": "4010d356-9e27-4c43-9288-0fa0e113db1c",
   "metadata": {},
   "source": [
    "#### Visualización incial"
   ]
  },
  {
   "cell_type": "code",
   "execution_count": 3,
   "id": "d300a489-f955-4a1d-b281-254236d4dd67",
   "metadata": {},
   "outputs": [
    {
     "data": {
      "text/html": [
       "<div>\n",
       "<style scoped>\n",
       "    .dataframe tbody tr th:only-of-type {\n",
       "        vertical-align: middle;\n",
       "    }\n",
       "\n",
       "    .dataframe tbody tr th {\n",
       "        vertical-align: top;\n",
       "    }\n",
       "\n",
       "    .dataframe thead th {\n",
       "        text-align: right;\n",
       "    }\n",
       "</style>\n",
       "<table border=\"1\" class=\"dataframe\">\n",
       "  <thead>\n",
       "    <tr style=\"text-align: right;\">\n",
       "      <th></th>\n",
       "      <th>Genero_Usuario</th>\n",
       "      <th>Edad_Usuario</th>\n",
       "      <th>Bici</th>\n",
       "      <th>Ciclo_Estacion_Retiro</th>\n",
       "      <th>Fecha_Retiro</th>\n",
       "      <th>Hora_Retiro</th>\n",
       "      <th>Ciclo_EstacionArribo</th>\n",
       "      <th>Fecha_Arribo</th>\n",
       "      <th>Hora_Arribo</th>\n",
       "    </tr>\n",
       "  </thead>\n",
       "  <tbody>\n",
       "    <tr>\n",
       "      <th>0</th>\n",
       "      <td>M</td>\n",
       "      <td>51.0</td>\n",
       "      <td>8620775</td>\n",
       "      <td>017</td>\n",
       "      <td>31/07/2024</td>\n",
       "      <td>23:53:06</td>\n",
       "      <td>061</td>\n",
       "      <td>01/08/2024</td>\n",
       "      <td>00:00:00</td>\n",
       "    </tr>\n",
       "    <tr>\n",
       "      <th>1</th>\n",
       "      <td>M</td>\n",
       "      <td>35.0</td>\n",
       "      <td>8882193</td>\n",
       "      <td>335</td>\n",
       "      <td>31/07/2024</td>\n",
       "      <td>23:46:43</td>\n",
       "      <td>320</td>\n",
       "      <td>01/08/2024</td>\n",
       "      <td>00:00:03</td>\n",
       "    </tr>\n",
       "  </tbody>\n",
       "</table>\n",
       "</div>"
      ],
      "text/plain": [
       "  Genero_Usuario  Edad_Usuario     Bici Ciclo_Estacion_Retiro Fecha_Retiro  \\\n",
       "0              M          51.0  8620775                   017   31/07/2024   \n",
       "1              M          35.0  8882193                   335   31/07/2024   \n",
       "\n",
       "  Hora_Retiro Ciclo_EstacionArribo Fecha_Arribo Hora_Arribo  \n",
       "0    23:53:06                  061   01/08/2024    00:00:00  \n",
       "1    23:46:43                  320   01/08/2024    00:00:03  "
      ]
     },
     "execution_count": 3,
     "metadata": {},
     "output_type": "execute_result"
    }
   ],
   "source": [
    "df_viajes.head(2)"
   ]
  },
  {
   "cell_type": "code",
   "execution_count": 4,
   "id": "665d7570-aba6-4924-aec3-97ecf2c0aed9",
   "metadata": {},
   "outputs": [
    {
     "name": "stdout",
     "output_type": "stream",
     "text": [
      "Número de viajes inicial: 1,891,319 \n"
     ]
    }
   ],
   "source": [
    "numero_viajes_inicial = len(df_viajes)\n",
    "print(f'Número de viajes inicial: {numero_viajes_inicial:,} ')"
   ]
  },
  {
   "cell_type": "markdown",
   "id": "fbd29fa5-0aff-4dc0-ab19-8b1bb5deba82",
   "metadata": {},
   "source": [
    "### Ciclo estaciones"
   ]
  },
  {
   "cell_type": "code",
   "execution_count": 5,
   "id": "edc0520d-eb38-4b2c-96e6-bed99682335b",
   "metadata": {},
   "outputs": [],
   "source": [
    "ciclo_estaciones_path = \"ciclo_estaciones_cluster.csv\"\n",
    "\n",
    "df_ciclo_estaciones =pd.read_csv(ciclo_estaciones_path)"
   ]
  },
  {
   "cell_type": "markdown",
   "id": "82055714-603e-49f7-965d-652cb650aeca",
   "metadata": {},
   "source": [
    "#### Visualización inicial"
   ]
  },
  {
   "cell_type": "code",
   "execution_count": 6,
   "id": "d844a0d1-627b-4df0-9125-3a6636e4f24a",
   "metadata": {},
   "outputs": [
    {
     "data": {
      "text/html": [
       "<div>\n",
       "<style scoped>\n",
       "    .dataframe tbody tr th:only-of-type {\n",
       "        vertical-align: middle;\n",
       "    }\n",
       "\n",
       "    .dataframe tbody tr th {\n",
       "        vertical-align: top;\n",
       "    }\n",
       "\n",
       "    .dataframe thead th {\n",
       "        text-align: right;\n",
       "    }\n",
       "</style>\n",
       "<table border=\"1\" class=\"dataframe\">\n",
       "  <thead>\n",
       "    <tr style=\"text-align: right;\">\n",
       "      <th></th>\n",
       "      <th>station_id</th>\n",
       "      <th>external_id</th>\n",
       "      <th>name</th>\n",
       "      <th>short_name</th>\n",
       "      <th>lat</th>\n",
       "      <th>lon</th>\n",
       "      <th>rental_methods</th>\n",
       "      <th>capacity</th>\n",
       "      <th>electric_bike_surcharge_waiver</th>\n",
       "      <th>is_charging</th>\n",
       "      <th>eightd_has_key_dispenser</th>\n",
       "      <th>has_kiosk</th>\n",
       "      <th>cluster</th>\n",
       "    </tr>\n",
       "  </thead>\n",
       "  <tbody>\n",
       "    <tr>\n",
       "      <th>0</th>\n",
       "      <td>1</td>\n",
       "      <td>e961269c-34c4-4b70-8e30-a51aa95a8429</td>\n",
       "      <td>CE-710 Molino del Rey - Glorieta de la Lealtad</td>\n",
       "      <td>710</td>\n",
       "      <td>19.416795</td>\n",
       "      <td>-99.192508</td>\n",
       "      <td>['CREDITCARD', 'KEY']</td>\n",
       "      <td>39</td>\n",
       "      <td>False</td>\n",
       "      <td>False</td>\n",
       "      <td>False</td>\n",
       "      <td>True</td>\n",
       "      <td>5</td>\n",
       "    </tr>\n",
       "    <tr>\n",
       "      <th>1</th>\n",
       "      <td>5</td>\n",
       "      <td>3ea89109-d2f3-46eb-9c41-c43742050340</td>\n",
       "      <td>CE-407  Prolongación Xochicalco-General Emilia...</td>\n",
       "      <td>407</td>\n",
       "      <td>19.367266</td>\n",
       "      <td>-99.158656</td>\n",
       "      <td>['CREDITCARD', 'KEY']</td>\n",
       "      <td>19</td>\n",
       "      <td>False</td>\n",
       "      <td>False</td>\n",
       "      <td>False</td>\n",
       "      <td>True</td>\n",
       "      <td>2</td>\n",
       "    </tr>\n",
       "  </tbody>\n",
       "</table>\n",
       "</div>"
      ],
      "text/plain": [
       "   station_id                           external_id  \\\n",
       "0           1  e961269c-34c4-4b70-8e30-a51aa95a8429   \n",
       "1           5  3ea89109-d2f3-46eb-9c41-c43742050340   \n",
       "\n",
       "                                                name short_name        lat  \\\n",
       "0     CE-710 Molino del Rey - Glorieta de la Lealtad        710  19.416795   \n",
       "1  CE-407  Prolongación Xochicalco-General Emilia...        407  19.367266   \n",
       "\n",
       "         lon         rental_methods  capacity  electric_bike_surcharge_waiver  \\\n",
       "0 -99.192508  ['CREDITCARD', 'KEY']        39                           False   \n",
       "1 -99.158656  ['CREDITCARD', 'KEY']        19                           False   \n",
       "\n",
       "   is_charging  eightd_has_key_dispenser  has_kiosk  cluster  \n",
       "0        False                     False       True        5  \n",
       "1        False                     False       True        2  "
      ]
     },
     "execution_count": 6,
     "metadata": {},
     "output_type": "execute_result"
    }
   ],
   "source": [
    "df_ciclo_estaciones.head(2)"
   ]
  },
  {
   "cell_type": "markdown",
   "id": "8743b996-c06b-4692-99ae-5c3404ec2608",
   "metadata": {},
   "source": [
    "## Información general"
   ]
  },
  {
   "cell_type": "markdown",
   "id": "a2ef8029-be39-4bf1-b350-b8c24715ade9",
   "metadata": {},
   "source": [
    "## Viajes"
   ]
  },
  {
   "cell_type": "markdown",
   "id": "070dcad3-326a-4e65-abca-4d919e6c8f1e",
   "metadata": {},
   "source": [
    "### Información General"
   ]
  },
  {
   "cell_type": "code",
   "execution_count": 7,
   "id": "8007dc62-19b7-438b-a90a-d0f5d12878d8",
   "metadata": {},
   "outputs": [
    {
     "name": "stdout",
     "output_type": "stream",
     "text": [
      "<class 'pandas.core.frame.DataFrame'>\n",
      "RangeIndex: 1891319 entries, 0 to 1891318\n",
      "Data columns (total 9 columns):\n",
      " #   Column                 Dtype  \n",
      "---  ------                 -----  \n",
      " 0   Genero_Usuario         object \n",
      " 1   Edad_Usuario           float64\n",
      " 2   Bici                   int64  \n",
      " 3   Ciclo_Estacion_Retiro  object \n",
      " 4   Fecha_Retiro           object \n",
      " 5   Hora_Retiro            object \n",
      " 6   Ciclo_EstacionArribo   object \n",
      " 7   Fecha_Arribo           object \n",
      " 8   Hora_Arribo            object \n",
      "dtypes: float64(1), int64(1), object(7)\n",
      "memory usage: 129.9+ MB\n"
     ]
    }
   ],
   "source": [
    "# info\n",
    "df_viajes.info()"
   ]
  },
  {
   "cell_type": "code",
   "execution_count": 8,
   "id": "c742af85-eb4a-457a-869e-bca436407af3",
   "metadata": {},
   "outputs": [
    {
     "data": {
      "text/html": [
       "<div>\n",
       "<style scoped>\n",
       "    .dataframe tbody tr th:only-of-type {\n",
       "        vertical-align: middle;\n",
       "    }\n",
       "\n",
       "    .dataframe tbody tr th {\n",
       "        vertical-align: top;\n",
       "    }\n",
       "\n",
       "    .dataframe thead th {\n",
       "        text-align: right;\n",
       "    }\n",
       "</style>\n",
       "<table border=\"1\" class=\"dataframe\">\n",
       "  <thead>\n",
       "    <tr style=\"text-align: right;\">\n",
       "      <th></th>\n",
       "      <th>Edad_Usuario</th>\n",
       "      <th>Bici</th>\n",
       "    </tr>\n",
       "  </thead>\n",
       "  <tbody>\n",
       "    <tr>\n",
       "      <th>count</th>\n",
       "      <td>1.891298e+06</td>\n",
       "      <td>1.891319e+06</td>\n",
       "    </tr>\n",
       "    <tr>\n",
       "      <th>mean</th>\n",
       "      <td>3.362021e+01</td>\n",
       "      <td>5.457336e+06</td>\n",
       "    </tr>\n",
       "    <tr>\n",
       "      <th>std</th>\n",
       "      <td>9.664720e+00</td>\n",
       "      <td>2.032810e+06</td>\n",
       "    </tr>\n",
       "    <tr>\n",
       "      <th>min</th>\n",
       "      <td>1.600000e+01</td>\n",
       "      <td>2.000461e+06</td>\n",
       "    </tr>\n",
       "    <tr>\n",
       "      <th>25%</th>\n",
       "      <td>2.700000e+01</td>\n",
       "      <td>3.708237e+06</td>\n",
       "    </tr>\n",
       "    <tr>\n",
       "      <th>50%</th>\n",
       "      <td>3.200000e+01</td>\n",
       "      <td>5.456421e+06</td>\n",
       "    </tr>\n",
       "    <tr>\n",
       "      <th>75%</th>\n",
       "      <td>3.800000e+01</td>\n",
       "      <td>7.220593e+06</td>\n",
       "    </tr>\n",
       "    <tr>\n",
       "      <th>max</th>\n",
       "      <td>1.040000e+02</td>\n",
       "      <td>8.999708e+06</td>\n",
       "    </tr>\n",
       "  </tbody>\n",
       "</table>\n",
       "</div>"
      ],
      "text/plain": [
       "       Edad_Usuario          Bici\n",
       "count  1.891298e+06  1.891319e+06\n",
       "mean   3.362021e+01  5.457336e+06\n",
       "std    9.664720e+00  2.032810e+06\n",
       "min    1.600000e+01  2.000461e+06\n",
       "25%    2.700000e+01  3.708237e+06\n",
       "50%    3.200000e+01  5.456421e+06\n",
       "75%    3.800000e+01  7.220593e+06\n",
       "max    1.040000e+02  8.999708e+06"
      ]
     },
     "execution_count": 8,
     "metadata": {},
     "output_type": "execute_result"
    }
   ],
   "source": [
    "# Describe\n",
    "\n",
    "df_viajes.describe()"
   ]
  },
  {
   "cell_type": "code",
   "execution_count": 9,
   "id": "6735bba1-2303-4d3a-ab9a-d68d386e4b65",
   "metadata": {},
   "outputs": [
    {
     "data": {
      "text/plain": [
       "Genero_Usuario           1891304\n",
       "Edad_Usuario             1891298\n",
       "Bici                     1891319\n",
       "Ciclo_Estacion_Retiro    1891319\n",
       "Fecha_Retiro             1891319\n",
       "Hora_Retiro              1891319\n",
       "Ciclo_EstacionArribo     1891319\n",
       "Fecha_Arribo             1891319\n",
       "Hora_Arribo              1891319\n",
       "dtype: int64"
      ]
     },
     "execution_count": 9,
     "metadata": {},
     "output_type": "execute_result"
    }
   ],
   "source": [
    "# count\n",
    "df_viajes.count()"
   ]
  },
  {
   "cell_type": "code",
   "execution_count": 10,
   "id": "5435f1f1-2e53-47e3-b6d3-84d22b0e1617",
   "metadata": {},
   "outputs": [
    {
     "data": {
      "text/plain": [
       "Genero_Usuario           15\n",
       "Edad_Usuario             21\n",
       "Bici                      0\n",
       "Ciclo_Estacion_Retiro     0\n",
       "Fecha_Retiro              0\n",
       "Hora_Retiro               0\n",
       "Ciclo_EstacionArribo      0\n",
       "Fecha_Arribo              0\n",
       "Hora_Arribo               0\n",
       "dtype: int64"
      ]
     },
     "execution_count": 10,
     "metadata": {},
     "output_type": "execute_result"
    }
   ],
   "source": [
    "# Nulos\n",
    "df_viajes.isnull().sum()"
   ]
  },
  {
   "cell_type": "markdown",
   "id": "6d286c8f-aad9-4d0f-847b-c8e4080bb9e3",
   "metadata": {},
   "source": [
    "### Edades"
   ]
  },
  {
   "cell_type": "code",
   "execution_count": 11,
   "id": "b6f7bac0-2ffc-4d27-b3d7-4366432af080",
   "metadata": {},
   "outputs": [
    {
     "name": "stdout",
     "output_type": "stream",
     "text": [
      "Edad máxima: 104.0 | Edad mínima: 16.0 | Edad promedio: 33.620210035647474 | Edad mediana: 32.0\n"
     ]
    }
   ],
   "source": [
    "edad_max = df_viajes['Edad_Usuario'].max()\n",
    "edad_min = df_viajes['Edad_Usuario'].min()\n",
    "edad_promedio = df_viajes['Edad_Usuario'].mean()\n",
    "edad_moda = df_viajes['Edad_Usuario'].mode()\n",
    "edad_mediana = df_viajes['Edad_Usuario'].median()\n",
    "\n",
    "print(f\"Edad máxima: {edad_max} | Edad mínima: {edad_min} | Edad promedio: {edad_promedio} | Edad mediana: {edad_mediana}\")"
   ]
  },
  {
   "cell_type": "code",
   "execution_count": 12,
   "id": "e8cf0d03-de98-4bee-a7d6-d8bf5ed76527",
   "metadata": {},
   "outputs": [
    {
     "data": {
      "text/plain": [
       "0    30.0\n",
       "Name: Edad_Usuario, dtype: float64"
      ]
     },
     "execution_count": 12,
     "metadata": {},
     "output_type": "execute_result"
    }
   ],
   "source": [
    "# Edades - Moda\n",
    "edad_moda"
   ]
  },
  {
   "cell_type": "markdown",
   "id": "cf2f1f48-c9a4-44ef-9a7f-7adf55535e93",
   "metadata": {},
   "source": [
    "## Limpieza datos"
   ]
  },
  {
   "cell_type": "markdown",
   "id": "85cd7cea-1f4c-4480-928c-a3e63f9c07c5",
   "metadata": {},
   "source": [
    "### Viajes"
   ]
  },
  {
   "cell_type": "markdown",
   "id": "fb4a3515-1343-4f8d-9375-d55834815e1f",
   "metadata": {},
   "source": [
    "#### Añadiendo columnas - 'Fecha_Retiro_DateTime' | 'Fecha_Arribo_DateTime'"
   ]
  },
  {
   "cell_type": "code",
   "execution_count": 13,
   "id": "51777dec-0573-4cbf-8cf5-1e1828a90b12",
   "metadata": {},
   "outputs": [],
   "source": [
    "# 'Fecha_Retiro_DateTime'\n",
    "df_viajes['Fecha_Retiro_DateTime'] = pd.to_datetime(df_viajes['Fecha_Retiro'] + ' ' + df_viajes['Hora_Retiro'], format='%d/%m/%Y %H:%M:%S')\n",
    "\n",
    "# 'Fecha_Arribo_DateTime'\n",
    "df_viajes['Fecha_Arribo_DateTime'] = pd.to_datetime(df_viajes['Fecha_Arribo'] + ' ' + df_viajes['Hora_Arribo'], format='%d/%m/%Y %H:%M:%S')\n"
   ]
  },
  {
   "cell_type": "code",
   "execution_count": 14,
   "id": "ff913f08-8e23-45f3-b8f1-2f7bfbde3fcd",
   "metadata": {},
   "outputs": [
    {
     "data": {
      "text/html": [
       "<div>\n",
       "<style scoped>\n",
       "    .dataframe tbody tr th:only-of-type {\n",
       "        vertical-align: middle;\n",
       "    }\n",
       "\n",
       "    .dataframe tbody tr th {\n",
       "        vertical-align: top;\n",
       "    }\n",
       "\n",
       "    .dataframe thead th {\n",
       "        text-align: right;\n",
       "    }\n",
       "</style>\n",
       "<table border=\"1\" class=\"dataframe\">\n",
       "  <thead>\n",
       "    <tr style=\"text-align: right;\">\n",
       "      <th></th>\n",
       "      <th>Genero_Usuario</th>\n",
       "      <th>Edad_Usuario</th>\n",
       "      <th>Bici</th>\n",
       "      <th>Ciclo_Estacion_Retiro</th>\n",
       "      <th>Fecha_Retiro</th>\n",
       "      <th>Hora_Retiro</th>\n",
       "      <th>Ciclo_EstacionArribo</th>\n",
       "      <th>Fecha_Arribo</th>\n",
       "      <th>Hora_Arribo</th>\n",
       "      <th>Fecha_Retiro_DateTime</th>\n",
       "      <th>Fecha_Arribo_DateTime</th>\n",
       "    </tr>\n",
       "  </thead>\n",
       "  <tbody>\n",
       "    <tr>\n",
       "      <th>0</th>\n",
       "      <td>M</td>\n",
       "      <td>51.0</td>\n",
       "      <td>8620775</td>\n",
       "      <td>017</td>\n",
       "      <td>31/07/2024</td>\n",
       "      <td>23:53:06</td>\n",
       "      <td>061</td>\n",
       "      <td>01/08/2024</td>\n",
       "      <td>00:00:00</td>\n",
       "      <td>2024-07-31 23:53:06</td>\n",
       "      <td>2024-08-01 00:00:00</td>\n",
       "    </tr>\n",
       "    <tr>\n",
       "      <th>1</th>\n",
       "      <td>M</td>\n",
       "      <td>35.0</td>\n",
       "      <td>8882193</td>\n",
       "      <td>335</td>\n",
       "      <td>31/07/2024</td>\n",
       "      <td>23:46:43</td>\n",
       "      <td>320</td>\n",
       "      <td>01/08/2024</td>\n",
       "      <td>00:00:03</td>\n",
       "      <td>2024-07-31 23:46:43</td>\n",
       "      <td>2024-08-01 00:00:03</td>\n",
       "    </tr>\n",
       "  </tbody>\n",
       "</table>\n",
       "</div>"
      ],
      "text/plain": [
       "  Genero_Usuario  Edad_Usuario     Bici Ciclo_Estacion_Retiro Fecha_Retiro  \\\n",
       "0              M          51.0  8620775                   017   31/07/2024   \n",
       "1              M          35.0  8882193                   335   31/07/2024   \n",
       "\n",
       "  Hora_Retiro Ciclo_EstacionArribo Fecha_Arribo Hora_Arribo  \\\n",
       "0    23:53:06                  061   01/08/2024    00:00:00   \n",
       "1    23:46:43                  320   01/08/2024    00:00:03   \n",
       "\n",
       "  Fecha_Retiro_DateTime Fecha_Arribo_DateTime  \n",
       "0   2024-07-31 23:53:06   2024-08-01 00:00:00  \n",
       "1   2024-07-31 23:46:43   2024-08-01 00:00:03  "
      ]
     },
     "execution_count": 14,
     "metadata": {},
     "output_type": "execute_result"
    }
   ],
   "source": [
    "df_viajes.head(2)"
   ]
  },
  {
   "cell_type": "markdown",
   "id": "cb6b4032-ab29-4a87-a730-08a345d81507",
   "metadata": {},
   "source": [
    "#### Renombrando Columnas"
   ]
  },
  {
   "cell_type": "code",
   "execution_count": 15,
   "id": "925849e5-4885-4b6e-8f1e-dc226292a12e",
   "metadata": {},
   "outputs": [
    {
     "data": {
      "text/html": [
       "<div>\n",
       "<style scoped>\n",
       "    .dataframe tbody tr th:only-of-type {\n",
       "        vertical-align: middle;\n",
       "    }\n",
       "\n",
       "    .dataframe tbody tr th {\n",
       "        vertical-align: top;\n",
       "    }\n",
       "\n",
       "    .dataframe thead th {\n",
       "        text-align: right;\n",
       "    }\n",
       "</style>\n",
       "<table border=\"1\" class=\"dataframe\">\n",
       "  <thead>\n",
       "    <tr style=\"text-align: right;\">\n",
       "      <th></th>\n",
       "      <th>Genero_Usuario</th>\n",
       "      <th>Edad_Usuario</th>\n",
       "      <th>Bici</th>\n",
       "      <th>Ciclo_Estacion_Retiro</th>\n",
       "      <th>Fecha_Retiro</th>\n",
       "      <th>Hora_Retiro</th>\n",
       "      <th>Ciclo_Estacion_Arribo</th>\n",
       "      <th>Fecha_Arribo</th>\n",
       "      <th>Hora_Arribo</th>\n",
       "      <th>Fecha_Retiro_DateTime</th>\n",
       "      <th>Fecha_Arribo_DateTime</th>\n",
       "    </tr>\n",
       "  </thead>\n",
       "  <tbody>\n",
       "    <tr>\n",
       "      <th>0</th>\n",
       "      <td>M</td>\n",
       "      <td>51.0</td>\n",
       "      <td>8620775</td>\n",
       "      <td>017</td>\n",
       "      <td>31/07/2024</td>\n",
       "      <td>23:53:06</td>\n",
       "      <td>061</td>\n",
       "      <td>01/08/2024</td>\n",
       "      <td>00:00:00</td>\n",
       "      <td>2024-07-31 23:53:06</td>\n",
       "      <td>2024-08-01</td>\n",
       "    </tr>\n",
       "  </tbody>\n",
       "</table>\n",
       "</div>"
      ],
      "text/plain": [
       "  Genero_Usuario  Edad_Usuario     Bici Ciclo_Estacion_Retiro Fecha_Retiro  \\\n",
       "0              M          51.0  8620775                   017   31/07/2024   \n",
       "\n",
       "  Hora_Retiro Ciclo_Estacion_Arribo Fecha_Arribo Hora_Arribo  \\\n",
       "0    23:53:06                   061   01/08/2024    00:00:00   \n",
       "\n",
       "  Fecha_Retiro_DateTime Fecha_Arribo_DateTime  \n",
       "0   2024-07-31 23:53:06            2024-08-01  "
      ]
     },
     "execution_count": 15,
     "metadata": {},
     "output_type": "execute_result"
    }
   ],
   "source": [
    "df_viajes = df_viajes.rename(columns={'Ciclo_EstacionArribo': 'Ciclo_Estacion_Arribo'})\n",
    "\n",
    "df_viajes.head(1)"
   ]
  },
  {
   "cell_type": "markdown",
   "id": "0e00157f-003d-40c3-abf5-4080fbd752a1",
   "metadata": {},
   "source": [
    "#### Validando rango de fecha 01/08/2024 - 31/08/2024"
   ]
  },
  {
   "cell_type": "code",
   "execution_count": 16,
   "id": "68fe7957-1d08-4401-92fa-512ef632cbbb",
   "metadata": {},
   "outputs": [
    {
     "data": {
      "text/html": [
       "<div>\n",
       "<style scoped>\n",
       "    .dataframe tbody tr th:only-of-type {\n",
       "        vertical-align: middle;\n",
       "    }\n",
       "\n",
       "    .dataframe tbody tr th {\n",
       "        vertical-align: top;\n",
       "    }\n",
       "\n",
       "    .dataframe thead th {\n",
       "        text-align: right;\n",
       "    }\n",
       "</style>\n",
       "<table border=\"1\" class=\"dataframe\">\n",
       "  <thead>\n",
       "    <tr style=\"text-align: right;\">\n",
       "      <th></th>\n",
       "      <th>Genero_Usuario</th>\n",
       "      <th>Edad_Usuario</th>\n",
       "      <th>Bici</th>\n",
       "      <th>Ciclo_Estacion_Retiro</th>\n",
       "      <th>Fecha_Retiro</th>\n",
       "      <th>Hora_Retiro</th>\n",
       "      <th>Ciclo_Estacion_Arribo</th>\n",
       "      <th>Fecha_Arribo</th>\n",
       "      <th>Hora_Arribo</th>\n",
       "      <th>Fecha_Retiro_DateTime</th>\n",
       "      <th>Fecha_Arribo_DateTime</th>\n",
       "    </tr>\n",
       "  </thead>\n",
       "  <tbody>\n",
       "    <tr>\n",
       "      <th>44</th>\n",
       "      <td>O</td>\n",
       "      <td>53.0</td>\n",
       "      <td>2199032</td>\n",
       "      <td>331</td>\n",
       "      <td>01/08/2024</td>\n",
       "      <td>00:01:50</td>\n",
       "      <td>312</td>\n",
       "      <td>01/08/2024</td>\n",
       "      <td>00:04:26</td>\n",
       "      <td>2024-08-01 00:01:50</td>\n",
       "      <td>2024-08-01 00:04:26</td>\n",
       "    </tr>\n",
       "  </tbody>\n",
       "</table>\n",
       "</div>"
      ],
      "text/plain": [
       "   Genero_Usuario  Edad_Usuario     Bici Ciclo_Estacion_Retiro Fecha_Retiro  \\\n",
       "44              O          53.0  2199032                   331   01/08/2024   \n",
       "\n",
       "   Hora_Retiro Ciclo_Estacion_Arribo Fecha_Arribo Hora_Arribo  \\\n",
       "44    00:01:50                   312   01/08/2024    00:04:26   \n",
       "\n",
       "   Fecha_Retiro_DateTime Fecha_Arribo_DateTime  \n",
       "44   2024-08-01 00:01:50   2024-08-01 00:04:26  "
      ]
     },
     "execution_count": 16,
     "metadata": {},
     "output_type": "execute_result"
    }
   ],
   "source": [
    "df_viajes = df_viajes[df_viajes['Fecha_Retiro_DateTime'].between('2024-08-01', '2024-08-31')]\n",
    "df_viajes.head(1)"
   ]
  },
  {
   "cell_type": "markdown",
   "id": "da6ef63d-16f8-418e-9069-e007d7562f0e",
   "metadata": {},
   "source": [
    "#### Añadiendo columna 'Grupo_Edad'"
   ]
  },
  {
   "cell_type": "code",
   "execution_count": 17,
   "id": "3c836d58-7e5e-4c61-b9e6-ee57fa430760",
   "metadata": {},
   "outputs": [],
   "source": [
    "# Definiendo bins y etiquetas\n",
    "\n",
    "bins = [0, 18, 24, 35, 45, 55, 65, 75, 85, 95, 105]\n",
    "labels = ['-18', '18-23', '24-34', '35-44', '45-54', '55-64', '65-74', '75-84', '85-94', '95+']"
   ]
  },
  {
   "cell_type": "code",
   "execution_count": 18,
   "id": "99966e96-602a-440f-b693-d9b46d629e8b",
   "metadata": {},
   "outputs": [
    {
     "data": {
      "text/html": [
       "<div>\n",
       "<style scoped>\n",
       "    .dataframe tbody tr th:only-of-type {\n",
       "        vertical-align: middle;\n",
       "    }\n",
       "\n",
       "    .dataframe tbody tr th {\n",
       "        vertical-align: top;\n",
       "    }\n",
       "\n",
       "    .dataframe thead th {\n",
       "        text-align: right;\n",
       "    }\n",
       "</style>\n",
       "<table border=\"1\" class=\"dataframe\">\n",
       "  <thead>\n",
       "    <tr style=\"text-align: right;\">\n",
       "      <th></th>\n",
       "      <th>Genero_Usuario</th>\n",
       "      <th>Edad_Usuario</th>\n",
       "      <th>Bici</th>\n",
       "      <th>Ciclo_Estacion_Retiro</th>\n",
       "      <th>Fecha_Retiro</th>\n",
       "      <th>Hora_Retiro</th>\n",
       "      <th>Ciclo_Estacion_Arribo</th>\n",
       "      <th>Fecha_Arribo</th>\n",
       "      <th>Hora_Arribo</th>\n",
       "      <th>Fecha_Retiro_DateTime</th>\n",
       "      <th>Fecha_Arribo_DateTime</th>\n",
       "      <th>Grupo_Edad</th>\n",
       "    </tr>\n",
       "  </thead>\n",
       "  <tbody>\n",
       "    <tr>\n",
       "      <th>44</th>\n",
       "      <td>O</td>\n",
       "      <td>53.0</td>\n",
       "      <td>2199032</td>\n",
       "      <td>331</td>\n",
       "      <td>01/08/2024</td>\n",
       "      <td>00:01:50</td>\n",
       "      <td>312</td>\n",
       "      <td>01/08/2024</td>\n",
       "      <td>00:04:26</td>\n",
       "      <td>2024-08-01 00:01:50</td>\n",
       "      <td>2024-08-01 00:04:26</td>\n",
       "      <td>45-54</td>\n",
       "    </tr>\n",
       "    <tr>\n",
       "      <th>51</th>\n",
       "      <td>F</td>\n",
       "      <td>20.0</td>\n",
       "      <td>3530268</td>\n",
       "      <td>104</td>\n",
       "      <td>01/08/2024</td>\n",
       "      <td>00:00:06</td>\n",
       "      <td>055</td>\n",
       "      <td>01/08/2024</td>\n",
       "      <td>00:05:00</td>\n",
       "      <td>2024-08-01 00:00:06</td>\n",
       "      <td>2024-08-01 00:05:00</td>\n",
       "      <td>18-23</td>\n",
       "    </tr>\n",
       "  </tbody>\n",
       "</table>\n",
       "</div>"
      ],
      "text/plain": [
       "   Genero_Usuario  Edad_Usuario     Bici Ciclo_Estacion_Retiro Fecha_Retiro  \\\n",
       "44              O          53.0  2199032                   331   01/08/2024   \n",
       "51              F          20.0  3530268                   104   01/08/2024   \n",
       "\n",
       "   Hora_Retiro Ciclo_Estacion_Arribo Fecha_Arribo Hora_Arribo  \\\n",
       "44    00:01:50                   312   01/08/2024    00:04:26   \n",
       "51    00:00:06                   055   01/08/2024    00:05:00   \n",
       "\n",
       "   Fecha_Retiro_DateTime Fecha_Arribo_DateTime Grupo_Edad  \n",
       "44   2024-08-01 00:01:50   2024-08-01 00:04:26      45-54  \n",
       "51   2024-08-01 00:00:06   2024-08-01 00:05:00      18-23  "
      ]
     },
     "execution_count": 18,
     "metadata": {},
     "output_type": "execute_result"
    }
   ],
   "source": [
    "df_viajes['Grupo_Edad'] = pd.cut(df_viajes['Edad_Usuario'], bins=bins, labels=labels, right=False)\n",
    "\n",
    "df_viajes.head(2)"
   ]
  },
  {
   "cell_type": "markdown",
   "id": "1c1e6780-2dca-4d1e-8dbb-1a976fe5cef7",
   "metadata": {},
   "source": [
    "#### Añadiendo columna 'Duracion_viaje' | 'Duracion_viaje_minutos'"
   ]
  },
  {
   "cell_type": "code",
   "execution_count": 19,
   "id": "e313ba10-612f-4687-ba37-083daa58b4c6",
   "metadata": {},
   "outputs": [],
   "source": [
    "# Función para convertir minutos decimal a formato legible en string\n",
    "\n",
    "def decimal_minutes_to_string(decimal_minutes):\n",
    "  minutes = int(decimal_minutes)\n",
    "  seconds = int((decimal_minutes - minutes) * 60)\n",
    "  return f\"{minutes:02d} minutos {seconds:02d} segundos\""
   ]
  },
  {
   "cell_type": "code",
   "execution_count": 20,
   "id": "49856313-4ec4-47ab-b36a-f4f08592906e",
   "metadata": {},
   "outputs": [
    {
     "data": {
      "text/html": [
       "<div>\n",
       "<style scoped>\n",
       "    .dataframe tbody tr th:only-of-type {\n",
       "        vertical-align: middle;\n",
       "    }\n",
       "\n",
       "    .dataframe tbody tr th {\n",
       "        vertical-align: top;\n",
       "    }\n",
       "\n",
       "    .dataframe thead th {\n",
       "        text-align: right;\n",
       "    }\n",
       "</style>\n",
       "<table border=\"1\" class=\"dataframe\">\n",
       "  <thead>\n",
       "    <tr style=\"text-align: right;\">\n",
       "      <th></th>\n",
       "      <th>Genero_Usuario</th>\n",
       "      <th>Edad_Usuario</th>\n",
       "      <th>Bici</th>\n",
       "      <th>Ciclo_Estacion_Retiro</th>\n",
       "      <th>Fecha_Retiro</th>\n",
       "      <th>Hora_Retiro</th>\n",
       "      <th>Ciclo_Estacion_Arribo</th>\n",
       "      <th>Fecha_Arribo</th>\n",
       "      <th>Hora_Arribo</th>\n",
       "      <th>Fecha_Retiro_DateTime</th>\n",
       "      <th>Fecha_Arribo_DateTime</th>\n",
       "      <th>Grupo_Edad</th>\n",
       "      <th>Duracion_viaje_minutos</th>\n",
       "      <th>Duracion_viaje</th>\n",
       "    </tr>\n",
       "  </thead>\n",
       "  <tbody>\n",
       "    <tr>\n",
       "      <th>44</th>\n",
       "      <td>O</td>\n",
       "      <td>53.0</td>\n",
       "      <td>2199032</td>\n",
       "      <td>331</td>\n",
       "      <td>01/08/2024</td>\n",
       "      <td>00:01:50</td>\n",
       "      <td>312</td>\n",
       "      <td>01/08/2024</td>\n",
       "      <td>00:04:26</td>\n",
       "      <td>2024-08-01 00:01:50</td>\n",
       "      <td>2024-08-01 00:04:26</td>\n",
       "      <td>45-54</td>\n",
       "      <td>2.6</td>\n",
       "      <td>02 minutos 36 segundos</td>\n",
       "    </tr>\n",
       "    <tr>\n",
       "      <th>51</th>\n",
       "      <td>F</td>\n",
       "      <td>20.0</td>\n",
       "      <td>3530268</td>\n",
       "      <td>104</td>\n",
       "      <td>01/08/2024</td>\n",
       "      <td>00:00:06</td>\n",
       "      <td>055</td>\n",
       "      <td>01/08/2024</td>\n",
       "      <td>00:05:00</td>\n",
       "      <td>2024-08-01 00:00:06</td>\n",
       "      <td>2024-08-01 00:05:00</td>\n",
       "      <td>18-23</td>\n",
       "      <td>4.9</td>\n",
       "      <td>04 minutos 54 segundos</td>\n",
       "    </tr>\n",
       "  </tbody>\n",
       "</table>\n",
       "</div>"
      ],
      "text/plain": [
       "   Genero_Usuario  Edad_Usuario     Bici Ciclo_Estacion_Retiro Fecha_Retiro  \\\n",
       "44              O          53.0  2199032                   331   01/08/2024   \n",
       "51              F          20.0  3530268                   104   01/08/2024   \n",
       "\n",
       "   Hora_Retiro Ciclo_Estacion_Arribo Fecha_Arribo Hora_Arribo  \\\n",
       "44    00:01:50                   312   01/08/2024    00:04:26   \n",
       "51    00:00:06                   055   01/08/2024    00:05:00   \n",
       "\n",
       "   Fecha_Retiro_DateTime Fecha_Arribo_DateTime Grupo_Edad  \\\n",
       "44   2024-08-01 00:01:50   2024-08-01 00:04:26      45-54   \n",
       "51   2024-08-01 00:00:06   2024-08-01 00:05:00      18-23   \n",
       "\n",
       "    Duracion_viaje_minutos          Duracion_viaje  \n",
       "44                     2.6  02 minutos 36 segundos  \n",
       "51                     4.9  04 minutos 54 segundos  "
      ]
     },
     "execution_count": 20,
     "metadata": {},
     "output_type": "execute_result"
    }
   ],
   "source": [
    "'''\n",
    "Duracion_viaje - string (formato legible)\n",
    "Duracion_viaje_minutos - decimal\n",
    "'''\n",
    "\n",
    "df_viajes['Duracion_viaje_minutos'] = (df_viajes['Fecha_Arribo_DateTime'] - df_viajes['Fecha_Retiro_DateTime']).dt.total_seconds() / 60\n",
    "df_viajes['Duracion_viaje'] = df_viajes['Duracion_viaje_minutos'].apply(decimal_minutes_to_string)\n",
    "\n",
    "df_viajes.head(2)"
   ]
  },
  {
   "cell_type": "markdown",
   "id": "ebfccfa9-6030-46c7-a1e9-f55db57db384",
   "metadata": {},
   "source": [
    "#### Cambiando '?' por 'O' en 'Genero_Usuario'"
   ]
  },
  {
   "cell_type": "code",
   "execution_count": 21,
   "id": "df0c2ee7-d34a-4216-88cc-c0bd66b4314a",
   "metadata": {},
   "outputs": [
    {
     "name": "stdout",
     "output_type": "stream",
     "text": [
      "Número de registros con Genero_Usuario \"?\": 19 \n",
      "Número de registros con Genero_Usuario \"O\": 36008 \n"
     ]
    }
   ],
   "source": [
    "# Genero_Usuario con valor '?' | 'O'\n",
    "genero_usuario_interrogacion = (df_viajes['Genero_Usuario'] == '?').sum()\n",
    "genero_usuario_o = (df_viajes['Genero_Usuario'] == 'O').sum()\n",
    "print(f'Número de registros con Genero_Usuario \"?\": {genero_usuario_interrogacion} ')\n",
    "print(f'Número de registros con Genero_Usuario \"O\": {genero_usuario_o} ')"
   ]
  },
  {
   "cell_type": "code",
   "execution_count": 22,
   "id": "2af41f91-2130-4c9a-87b1-232458029960",
   "metadata": {},
   "outputs": [
    {
     "name": "stdout",
     "output_type": "stream",
     "text": [
      "Número de registros con Genero_Usuario \"?\": 0 \n",
      "Número de registros con Genero_Usuario \"O\": 36027 \n"
     ]
    }
   ],
   "source": [
    "# Reemplazar '?' por 'O'\n",
    "df_viajes['Genero_Usuario'] = df_viajes['Genero_Usuario'].replace('?', 'O')\n",
    "\n",
    "# Genero_Usuario con valor '?' | 'O'\n",
    "genero_usuario_interrogacion = (df_viajes['Genero_Usuario'] == '?').sum()\n",
    "genero_usuario_o = (df_viajes['Genero_Usuario'] == 'O').sum()\n",
    "print(f'Número de registros con Genero_Usuario \"?\": {genero_usuario_interrogacion} ')\n",
    "print(f'Número de registros con Genero_Usuario \"O\": {genero_usuario_o} ')"
   ]
  },
  {
   "cell_type": "markdown",
   "id": "a40cbe7b",
   "metadata": {},
   "source": [
    "### Añadieno datos temporales para ciclo estaciones de retiro/arribo"
   ]
  },
  {
   "cell_type": "code",
   "execution_count": 23,
   "id": "d81e1ad6",
   "metadata": {},
   "outputs": [],
   "source": [
    "# Datos temporales: Ciclo estaciones de retiro\n",
    "df_viajes['Hora_Retiro_Digito'] = df_viajes['Fecha_Retiro_DateTime'].dt.hour\n",
    "df_viajes['Dia_Semana_Retiro'] = df_viajes['Fecha_Retiro_DateTime'].dt.day_name()\n",
    "df_viajes['Dia_Retiro_Digito'] = df_viajes['Fecha_Retiro_DateTime'].dt.day\n"
   ]
  },
  {
   "cell_type": "code",
   "execution_count": 24,
   "id": "285632db",
   "metadata": {},
   "outputs": [],
   "source": [
    "# Datos temporales: Ciclo estaciones de arribo\n",
    "df_viajes['Hora_Arribo_Digito'] = df_viajes['Fecha_Arribo_DateTime'].dt.hour\n",
    "df_viajes['Dia_Semana_Arribo'] = df_viajes['Fecha_Arribo_DateTime'].dt.day_name()\n",
    "df_viajes['Dia_Arribo_Digito'] = df_viajes['Fecha_Arribo_DateTime'].dt.day\n"
   ]
  },
  {
   "cell_type": "markdown",
   "id": "9862c963-0995-4da1-bf7e-bff2ae48a092",
   "metadata": {},
   "source": [
    "### Ciclo estaciones"
   ]
  },
  {
   "cell_type": "markdown",
   "id": "4f81f9e5-3ae1-40f0-869d-a93b8aa476fc",
   "metadata": {},
   "source": [
    "#### Validando ciclo estaciones válidas"
   ]
  },
  {
   "cell_type": "code",
   "execution_count": 25,
   "id": "1f261884-2cb5-4250-8d51-07633c2690f9",
   "metadata": {},
   "outputs": [],
   "source": [
    "# Creando un conjunto de ciclo estaciones válidas\n",
    "\n",
    "ciclo_estaciones_validas = set(df_ciclo_estaciones['short_name'].astype(str))\n"
   ]
  },
  {
   "cell_type": "code",
   "execution_count": 26,
   "id": "bbac8563-3e24-4366-9e33-69c194f1e07f",
   "metadata": {},
   "outputs": [],
   "source": [
    "'''\n",
    "Función para validar si una ciclo estación se\n",
    "encuentra dentro del conjunto de ciclo estaciones válidas\n",
    "'''\n",
    "\n",
    "def ciclo_estacion_valida(ciclo_estacion):\n",
    "    return str(ciclo_estacion) in ciclo_estaciones_validas"
   ]
  },
  {
   "cell_type": "code",
   "execution_count": 27,
   "id": "35593c3a-1c04-4ee8-b318-c924e7f2b0fa",
   "metadata": {},
   "outputs": [
    {
     "data": {
      "text/html": [
       "<div>\n",
       "<style scoped>\n",
       "    .dataframe tbody tr th:only-of-type {\n",
       "        vertical-align: middle;\n",
       "    }\n",
       "\n",
       "    .dataframe tbody tr th {\n",
       "        vertical-align: top;\n",
       "    }\n",
       "\n",
       "    .dataframe thead th {\n",
       "        text-align: right;\n",
       "    }\n",
       "</style>\n",
       "<table border=\"1\" class=\"dataframe\">\n",
       "  <thead>\n",
       "    <tr style=\"text-align: right;\">\n",
       "      <th></th>\n",
       "      <th>Genero_Usuario</th>\n",
       "      <th>Edad_Usuario</th>\n",
       "      <th>Bici</th>\n",
       "      <th>Ciclo_Estacion_Retiro</th>\n",
       "      <th>Fecha_Retiro</th>\n",
       "      <th>Hora_Retiro</th>\n",
       "      <th>Ciclo_Estacion_Arribo</th>\n",
       "      <th>Fecha_Arribo</th>\n",
       "      <th>Hora_Arribo</th>\n",
       "      <th>Fecha_Retiro_DateTime</th>\n",
       "      <th>...</th>\n",
       "      <th>Duracion_viaje_minutos</th>\n",
       "      <th>Duracion_viaje</th>\n",
       "      <th>Hora_Retiro_Digito</th>\n",
       "      <th>Dia_Semana_Retiro</th>\n",
       "      <th>Dia_Retiro_Digito</th>\n",
       "      <th>Hora_Arribo_Digito</th>\n",
       "      <th>Dia_Semana_Arribo</th>\n",
       "      <th>Dia_Arribo_Digito</th>\n",
       "      <th>Retiro_Valido</th>\n",
       "      <th>Arribo_Valido</th>\n",
       "    </tr>\n",
       "  </thead>\n",
       "  <tbody>\n",
       "    <tr>\n",
       "      <th>44</th>\n",
       "      <td>O</td>\n",
       "      <td>53.0</td>\n",
       "      <td>2199032</td>\n",
       "      <td>331</td>\n",
       "      <td>01/08/2024</td>\n",
       "      <td>00:01:50</td>\n",
       "      <td>312</td>\n",
       "      <td>01/08/2024</td>\n",
       "      <td>00:04:26</td>\n",
       "      <td>2024-08-01 00:01:50</td>\n",
       "      <td>...</td>\n",
       "      <td>2.6</td>\n",
       "      <td>02 minutos 36 segundos</td>\n",
       "      <td>0</td>\n",
       "      <td>Thursday</td>\n",
       "      <td>1</td>\n",
       "      <td>0</td>\n",
       "      <td>Thursday</td>\n",
       "      <td>1</td>\n",
       "      <td>True</td>\n",
       "      <td>True</td>\n",
       "    </tr>\n",
       "    <tr>\n",
       "      <th>51</th>\n",
       "      <td>F</td>\n",
       "      <td>20.0</td>\n",
       "      <td>3530268</td>\n",
       "      <td>104</td>\n",
       "      <td>01/08/2024</td>\n",
       "      <td>00:00:06</td>\n",
       "      <td>055</td>\n",
       "      <td>01/08/2024</td>\n",
       "      <td>00:05:00</td>\n",
       "      <td>2024-08-01 00:00:06</td>\n",
       "      <td>...</td>\n",
       "      <td>4.9</td>\n",
       "      <td>04 minutos 54 segundos</td>\n",
       "      <td>0</td>\n",
       "      <td>Thursday</td>\n",
       "      <td>1</td>\n",
       "      <td>0</td>\n",
       "      <td>Thursday</td>\n",
       "      <td>1</td>\n",
       "      <td>True</td>\n",
       "      <td>True</td>\n",
       "    </tr>\n",
       "  </tbody>\n",
       "</table>\n",
       "<p>2 rows × 22 columns</p>\n",
       "</div>"
      ],
      "text/plain": [
       "   Genero_Usuario  Edad_Usuario     Bici Ciclo_Estacion_Retiro Fecha_Retiro  \\\n",
       "44              O          53.0  2199032                   331   01/08/2024   \n",
       "51              F          20.0  3530268                   104   01/08/2024   \n",
       "\n",
       "   Hora_Retiro Ciclo_Estacion_Arribo Fecha_Arribo Hora_Arribo  \\\n",
       "44    00:01:50                   312   01/08/2024    00:04:26   \n",
       "51    00:00:06                   055   01/08/2024    00:05:00   \n",
       "\n",
       "   Fecha_Retiro_DateTime  ... Duracion_viaje_minutos          Duracion_viaje  \\\n",
       "44   2024-08-01 00:01:50  ...                    2.6  02 minutos 36 segundos   \n",
       "51   2024-08-01 00:00:06  ...                    4.9  04 minutos 54 segundos   \n",
       "\n",
       "    Hora_Retiro_Digito Dia_Semana_Retiro  Dia_Retiro_Digito  \\\n",
       "44                   0          Thursday                  1   \n",
       "51                   0          Thursday                  1   \n",
       "\n",
       "   Hora_Arribo_Digito  Dia_Semana_Arribo  Dia_Arribo_Digito Retiro_Valido  \\\n",
       "44                  0           Thursday                  1          True   \n",
       "51                  0           Thursday                  1          True   \n",
       "\n",
       "    Arribo_Valido  \n",
       "44           True  \n",
       "51           True  \n",
       "\n",
       "[2 rows x 22 columns]"
      ]
     },
     "execution_count": 27,
     "metadata": {},
     "output_type": "execute_result"
    }
   ],
   "source": [
    "# Validando 'Ciclo_Estacion_Retiro' | 'Ciclo_Estacion_Arribo'\n",
    "\n",
    "df_viajes['Retiro_Valido'] = df_viajes['Ciclo_Estacion_Retiro'].apply(ciclo_estacion_valida)\n",
    "\n",
    "df_viajes['Arribo_Valido'] = df_viajes['Ciclo_Estacion_Arribo'].apply(ciclo_estacion_valida)\n",
    "\n",
    "df_viajes.head(2)"
   ]
  },
  {
   "cell_type": "markdown",
   "id": "4ed2cf2d-ea0a-4765-a833-99fad4a5d74b",
   "metadata": {},
   "source": [
    "### Filtros"
   ]
  },
  {
   "cell_type": "markdown",
   "id": "9e8c3f1d-a8a1-467d-9cd6-a514d7fa4948",
   "metadata": {},
   "source": [
    "#### Ciclo estaciones válidas"
   ]
  },
  {
   "cell_type": "code",
   "execution_count": 28,
   "id": "a49b2514-007c-4ff7-8bf9-6f74bf154e74",
   "metadata": {},
   "outputs": [
    {
     "data": {
      "text/html": [
       "<div>\n",
       "<style scoped>\n",
       "    .dataframe tbody tr th:only-of-type {\n",
       "        vertical-align: middle;\n",
       "    }\n",
       "\n",
       "    .dataframe tbody tr th {\n",
       "        vertical-align: top;\n",
       "    }\n",
       "\n",
       "    .dataframe thead th {\n",
       "        text-align: right;\n",
       "    }\n",
       "</style>\n",
       "<table border=\"1\" class=\"dataframe\">\n",
       "  <thead>\n",
       "    <tr style=\"text-align: right;\">\n",
       "      <th></th>\n",
       "      <th>Genero_Usuario</th>\n",
       "      <th>Edad_Usuario</th>\n",
       "      <th>Bici</th>\n",
       "      <th>Ciclo_Estacion_Retiro</th>\n",
       "      <th>Fecha_Retiro</th>\n",
       "      <th>Hora_Retiro</th>\n",
       "      <th>Ciclo_Estacion_Arribo</th>\n",
       "      <th>Fecha_Arribo</th>\n",
       "      <th>Hora_Arribo</th>\n",
       "      <th>Fecha_Retiro_DateTime</th>\n",
       "      <th>...</th>\n",
       "      <th>Duracion_viaje_minutos</th>\n",
       "      <th>Duracion_viaje</th>\n",
       "      <th>Hora_Retiro_Digito</th>\n",
       "      <th>Dia_Semana_Retiro</th>\n",
       "      <th>Dia_Retiro_Digito</th>\n",
       "      <th>Hora_Arribo_Digito</th>\n",
       "      <th>Dia_Semana_Arribo</th>\n",
       "      <th>Dia_Arribo_Digito</th>\n",
       "      <th>Retiro_Valido</th>\n",
       "      <th>Arribo_Valido</th>\n",
       "    </tr>\n",
       "  </thead>\n",
       "  <tbody>\n",
       "    <tr>\n",
       "      <th>44</th>\n",
       "      <td>O</td>\n",
       "      <td>53.0</td>\n",
       "      <td>2199032</td>\n",
       "      <td>331</td>\n",
       "      <td>01/08/2024</td>\n",
       "      <td>00:01:50</td>\n",
       "      <td>312</td>\n",
       "      <td>01/08/2024</td>\n",
       "      <td>00:04:26</td>\n",
       "      <td>2024-08-01 00:01:50</td>\n",
       "      <td>...</td>\n",
       "      <td>2.6</td>\n",
       "      <td>02 minutos 36 segundos</td>\n",
       "      <td>0</td>\n",
       "      <td>Thursday</td>\n",
       "      <td>1</td>\n",
       "      <td>0</td>\n",
       "      <td>Thursday</td>\n",
       "      <td>1</td>\n",
       "      <td>True</td>\n",
       "      <td>True</td>\n",
       "    </tr>\n",
       "    <tr>\n",
       "      <th>51</th>\n",
       "      <td>F</td>\n",
       "      <td>20.0</td>\n",
       "      <td>3530268</td>\n",
       "      <td>104</td>\n",
       "      <td>01/08/2024</td>\n",
       "      <td>00:00:06</td>\n",
       "      <td>055</td>\n",
       "      <td>01/08/2024</td>\n",
       "      <td>00:05:00</td>\n",
       "      <td>2024-08-01 00:00:06</td>\n",
       "      <td>...</td>\n",
       "      <td>4.9</td>\n",
       "      <td>04 minutos 54 segundos</td>\n",
       "      <td>0</td>\n",
       "      <td>Thursday</td>\n",
       "      <td>1</td>\n",
       "      <td>0</td>\n",
       "      <td>Thursday</td>\n",
       "      <td>1</td>\n",
       "      <td>True</td>\n",
       "      <td>True</td>\n",
       "    </tr>\n",
       "  </tbody>\n",
       "</table>\n",
       "<p>2 rows × 22 columns</p>\n",
       "</div>"
      ],
      "text/plain": [
       "   Genero_Usuario  Edad_Usuario     Bici Ciclo_Estacion_Retiro Fecha_Retiro  \\\n",
       "44              O          53.0  2199032                   331   01/08/2024   \n",
       "51              F          20.0  3530268                   104   01/08/2024   \n",
       "\n",
       "   Hora_Retiro Ciclo_Estacion_Arribo Fecha_Arribo Hora_Arribo  \\\n",
       "44    00:01:50                   312   01/08/2024    00:04:26   \n",
       "51    00:00:06                   055   01/08/2024    00:05:00   \n",
       "\n",
       "   Fecha_Retiro_DateTime  ... Duracion_viaje_minutos          Duracion_viaje  \\\n",
       "44   2024-08-01 00:01:50  ...                    2.6  02 minutos 36 segundos   \n",
       "51   2024-08-01 00:00:06  ...                    4.9  04 minutos 54 segundos   \n",
       "\n",
       "    Hora_Retiro_Digito Dia_Semana_Retiro  Dia_Retiro_Digito  \\\n",
       "44                   0          Thursday                  1   \n",
       "51                   0          Thursday                  1   \n",
       "\n",
       "   Hora_Arribo_Digito  Dia_Semana_Arribo  Dia_Arribo_Digito Retiro_Valido  \\\n",
       "44                  0           Thursday                  1          True   \n",
       "51                  0           Thursday                  1          True   \n",
       "\n",
       "    Arribo_Valido  \n",
       "44           True  \n",
       "51           True  \n",
       "\n",
       "[2 rows x 22 columns]"
      ]
     },
     "execution_count": 28,
     "metadata": {},
     "output_type": "execute_result"
    }
   ],
   "source": [
    "# Viajes con ciclo estaciones válidas\n",
    "\n",
    "df_viajes_ciclo_estaciones_validas = df_viajes[df_viajes['Retiro_Valido'] & df_viajes['Arribo_Valido']]\n",
    "\n",
    "df_viajes_ciclo_estaciones_validas.head(2)"
   ]
  },
  {
   "cell_type": "code",
   "execution_count": 29,
   "id": "8e2bd036-220d-4397-a12c-88c294de334b",
   "metadata": {},
   "outputs": [
    {
     "name": "stdout",
     "output_type": "stream",
     "text": [
      "Número total de viajes: 1,842,956\n",
      "Número total de viajes con estaciones válidas: 1,842,901\n",
      "Porcentaje de viajes válidos: 99.99701566396594\n"
     ]
    }
   ],
   "source": [
    "print(f\"Número total de viajes: {len(df_viajes):,}\")\n",
    "print(f\"Número total de viajes con estaciones válidas: {len(df_viajes_ciclo_estaciones_validas):,}\")\n",
    "print(f\"Porcentaje de viajes válidos: {len(df_viajes_ciclo_estaciones_validas)/len(df_viajes) * 100}\")"
   ]
  },
  {
   "cell_type": "code",
   "execution_count": 30,
   "id": "d6ace3c2-a7bb-4c96-ba76-882c4aac75ee",
   "metadata": {},
   "outputs": [
    {
     "name": "stdout",
     "output_type": "stream",
     "text": [
      "Ciclo estaciones de arribo no válidas más comunes:\n",
      "Ciclo_Estacion_Arribo\n",
      "1000     54\n",
      "tag 2     1\n",
      "Name: count, dtype: int64\n"
     ]
    }
   ],
   "source": [
    "print(\"Ciclo estaciones de arribo no válidas más comunes:\")\n",
    "print(df_viajes[~df_viajes['Arribo_Valido']]['Ciclo_Estacion_Arribo'].value_counts().head())\n"
   ]
  },
  {
   "cell_type": "code",
   "execution_count": 31,
   "id": "afbf996c-34c4-4297-9357-8e6feee70b72",
   "metadata": {},
   "outputs": [
    {
     "name": "stdout",
     "output_type": "stream",
     "text": [
      "Ciclo estaciones de retiro no válidas más comunes:\n",
      "Ciclo_Estacion_Retiro\n",
      "1000    3\n",
      "Name: count, dtype: int64\n"
     ]
    }
   ],
   "source": [
    "print(\"Ciclo estaciones de retiro no válidas más comunes:\")\n",
    "print(df_viajes[~df_viajes['Retiro_Valido']]['Ciclo_Estacion_Retiro'].value_counts().head())\n"
   ]
  },
  {
   "cell_type": "markdown",
   "id": "2c4282d8",
   "metadata": {},
   "source": [
    "#### Añadiendo clusters"
   ]
  },
  {
   "cell_type": "code",
   "execution_count": 32,
   "id": "acac22b9-2396-47f6-9ba3-caa48164321f",
   "metadata": {},
   "outputs": [
    {
     "data": {
      "text/html": [
       "<div>\n",
       "<style scoped>\n",
       "    .dataframe tbody tr th:only-of-type {\n",
       "        vertical-align: middle;\n",
       "    }\n",
       "\n",
       "    .dataframe tbody tr th {\n",
       "        vertical-align: top;\n",
       "    }\n",
       "\n",
       "    .dataframe thead th {\n",
       "        text-align: right;\n",
       "    }\n",
       "</style>\n",
       "<table border=\"1\" class=\"dataframe\">\n",
       "  <thead>\n",
       "    <tr style=\"text-align: right;\">\n",
       "      <th></th>\n",
       "      <th>Genero_Usuario</th>\n",
       "      <th>Edad_Usuario</th>\n",
       "      <th>Bici</th>\n",
       "      <th>Ciclo_Estacion_Retiro</th>\n",
       "      <th>Fecha_Retiro</th>\n",
       "      <th>Hora_Retiro</th>\n",
       "      <th>Ciclo_Estacion_Arribo</th>\n",
       "      <th>Fecha_Arribo</th>\n",
       "      <th>Hora_Arribo</th>\n",
       "      <th>Fecha_Retiro_DateTime</th>\n",
       "      <th>...</th>\n",
       "      <th>Hora_Retiro_Digito</th>\n",
       "      <th>Dia_Semana_Retiro</th>\n",
       "      <th>Dia_Retiro_Digito</th>\n",
       "      <th>Hora_Arribo_Digito</th>\n",
       "      <th>Dia_Semana_Arribo</th>\n",
       "      <th>Dia_Arribo_Digito</th>\n",
       "      <th>Retiro_Valido</th>\n",
       "      <th>Arribo_Valido</th>\n",
       "      <th>Cluster_Retiro</th>\n",
       "      <th>Cluster_Arribo</th>\n",
       "    </tr>\n",
       "  </thead>\n",
       "  <tbody>\n",
       "    <tr>\n",
       "      <th>0</th>\n",
       "      <td>O</td>\n",
       "      <td>53.0</td>\n",
       "      <td>2199032</td>\n",
       "      <td>331</td>\n",
       "      <td>01/08/2024</td>\n",
       "      <td>00:01:50</td>\n",
       "      <td>312</td>\n",
       "      <td>01/08/2024</td>\n",
       "      <td>00:04:26</td>\n",
       "      <td>2024-08-01 00:01:50</td>\n",
       "      <td>...</td>\n",
       "      <td>0</td>\n",
       "      <td>Thursday</td>\n",
       "      <td>1</td>\n",
       "      <td>0</td>\n",
       "      <td>Thursday</td>\n",
       "      <td>1</td>\n",
       "      <td>True</td>\n",
       "      <td>True</td>\n",
       "      <td>3</td>\n",
       "      <td>3</td>\n",
       "    </tr>\n",
       "    <tr>\n",
       "      <th>1</th>\n",
       "      <td>F</td>\n",
       "      <td>20.0</td>\n",
       "      <td>3530268</td>\n",
       "      <td>104</td>\n",
       "      <td>01/08/2024</td>\n",
       "      <td>00:00:06</td>\n",
       "      <td>055</td>\n",
       "      <td>01/08/2024</td>\n",
       "      <td>00:05:00</td>\n",
       "      <td>2024-08-01 00:00:06</td>\n",
       "      <td>...</td>\n",
       "      <td>0</td>\n",
       "      <td>Thursday</td>\n",
       "      <td>1</td>\n",
       "      <td>0</td>\n",
       "      <td>Thursday</td>\n",
       "      <td>1</td>\n",
       "      <td>True</td>\n",
       "      <td>True</td>\n",
       "      <td>4</td>\n",
       "      <td>4</td>\n",
       "    </tr>\n",
       "    <tr>\n",
       "      <th>2</th>\n",
       "      <td>M</td>\n",
       "      <td>32.0</td>\n",
       "      <td>5796800</td>\n",
       "      <td>008</td>\n",
       "      <td>01/08/2024</td>\n",
       "      <td>00:00:47</td>\n",
       "      <td>026</td>\n",
       "      <td>01/08/2024</td>\n",
       "      <td>00:05:22</td>\n",
       "      <td>2024-08-01 00:00:47</td>\n",
       "      <td>...</td>\n",
       "      <td>0</td>\n",
       "      <td>Thursday</td>\n",
       "      <td>1</td>\n",
       "      <td>0</td>\n",
       "      <td>Thursday</td>\n",
       "      <td>1</td>\n",
       "      <td>True</td>\n",
       "      <td>True</td>\n",
       "      <td>4</td>\n",
       "      <td>4</td>\n",
       "    </tr>\n",
       "    <tr>\n",
       "      <th>3</th>\n",
       "      <td>M</td>\n",
       "      <td>32.0</td>\n",
       "      <td>2354306</td>\n",
       "      <td>077</td>\n",
       "      <td>01/08/2024</td>\n",
       "      <td>00:02:05</td>\n",
       "      <td>068</td>\n",
       "      <td>01/08/2024</td>\n",
       "      <td>00:05:27</td>\n",
       "      <td>2024-08-01 00:02:05</td>\n",
       "      <td>...</td>\n",
       "      <td>0</td>\n",
       "      <td>Thursday</td>\n",
       "      <td>1</td>\n",
       "      <td>0</td>\n",
       "      <td>Thursday</td>\n",
       "      <td>1</td>\n",
       "      <td>True</td>\n",
       "      <td>True</td>\n",
       "      <td>0</td>\n",
       "      <td>0</td>\n",
       "    </tr>\n",
       "    <tr>\n",
       "      <th>4</th>\n",
       "      <td>M</td>\n",
       "      <td>37.0</td>\n",
       "      <td>7424112</td>\n",
       "      <td>054</td>\n",
       "      <td>01/08/2024</td>\n",
       "      <td>00:01:28</td>\n",
       "      <td>154</td>\n",
       "      <td>01/08/2024</td>\n",
       "      <td>00:05:52</td>\n",
       "      <td>2024-08-01 00:01:28</td>\n",
       "      <td>...</td>\n",
       "      <td>0</td>\n",
       "      <td>Thursday</td>\n",
       "      <td>1</td>\n",
       "      <td>0</td>\n",
       "      <td>Thursday</td>\n",
       "      <td>1</td>\n",
       "      <td>True</td>\n",
       "      <td>True</td>\n",
       "      <td>0</td>\n",
       "      <td>0</td>\n",
       "    </tr>\n",
       "    <tr>\n",
       "      <th>...</th>\n",
       "      <td>...</td>\n",
       "      <td>...</td>\n",
       "      <td>...</td>\n",
       "      <td>...</td>\n",
       "      <td>...</td>\n",
       "      <td>...</td>\n",
       "      <td>...</td>\n",
       "      <td>...</td>\n",
       "      <td>...</td>\n",
       "      <td>...</td>\n",
       "      <td>...</td>\n",
       "      <td>...</td>\n",
       "      <td>...</td>\n",
       "      <td>...</td>\n",
       "      <td>...</td>\n",
       "      <td>...</td>\n",
       "      <td>...</td>\n",
       "      <td>...</td>\n",
       "      <td>...</td>\n",
       "      <td>...</td>\n",
       "      <td>...</td>\n",
       "    </tr>\n",
       "    <tr>\n",
       "      <th>1842896</th>\n",
       "      <td>F</td>\n",
       "      <td>28.0</td>\n",
       "      <td>2815322</td>\n",
       "      <td>068</td>\n",
       "      <td>30/08/2024</td>\n",
       "      <td>22:14:49</td>\n",
       "      <td>078</td>\n",
       "      <td>31/08/2024</td>\n",
       "      <td>07:49:36</td>\n",
       "      <td>2024-08-30 22:14:49</td>\n",
       "      <td>...</td>\n",
       "      <td>22</td>\n",
       "      <td>Friday</td>\n",
       "      <td>30</td>\n",
       "      <td>7</td>\n",
       "      <td>Saturday</td>\n",
       "      <td>31</td>\n",
       "      <td>True</td>\n",
       "      <td>True</td>\n",
       "      <td>0</td>\n",
       "      <td>0</td>\n",
       "    </tr>\n",
       "    <tr>\n",
       "      <th>1842897</th>\n",
       "      <td>M</td>\n",
       "      <td>65.0</td>\n",
       "      <td>5808704</td>\n",
       "      <td>047</td>\n",
       "      <td>30/08/2024</td>\n",
       "      <td>14:27:32</td>\n",
       "      <td>133</td>\n",
       "      <td>31/08/2024</td>\n",
       "      <td>10:00:09</td>\n",
       "      <td>2024-08-30 14:27:32</td>\n",
       "      <td>...</td>\n",
       "      <td>14</td>\n",
       "      <td>Friday</td>\n",
       "      <td>30</td>\n",
       "      <td>10</td>\n",
       "      <td>Saturday</td>\n",
       "      <td>31</td>\n",
       "      <td>True</td>\n",
       "      <td>True</td>\n",
       "      <td>0</td>\n",
       "      <td>4</td>\n",
       "    </tr>\n",
       "    <tr>\n",
       "      <th>1842898</th>\n",
       "      <td>M</td>\n",
       "      <td>52.0</td>\n",
       "      <td>4843876</td>\n",
       "      <td>389</td>\n",
       "      <td>30/08/2024</td>\n",
       "      <td>23:55:19</td>\n",
       "      <td>660</td>\n",
       "      <td>31/08/2024</td>\n",
       "      <td>10:30:14</td>\n",
       "      <td>2024-08-30 23:55:19</td>\n",
       "      <td>...</td>\n",
       "      <td>23</td>\n",
       "      <td>Friday</td>\n",
       "      <td>30</td>\n",
       "      <td>10</td>\n",
       "      <td>Saturday</td>\n",
       "      <td>31</td>\n",
       "      <td>True</td>\n",
       "      <td>True</td>\n",
       "      <td>3</td>\n",
       "      <td>3</td>\n",
       "    </tr>\n",
       "    <tr>\n",
       "      <th>1842899</th>\n",
       "      <td>M</td>\n",
       "      <td>22.0</td>\n",
       "      <td>4882494</td>\n",
       "      <td>179</td>\n",
       "      <td>30/08/2024</td>\n",
       "      <td>17:05:42</td>\n",
       "      <td>258</td>\n",
       "      <td>31/08/2024</td>\n",
       "      <td>17:23:14</td>\n",
       "      <td>2024-08-30 17:05:42</td>\n",
       "      <td>...</td>\n",
       "      <td>17</td>\n",
       "      <td>Friday</td>\n",
       "      <td>30</td>\n",
       "      <td>17</td>\n",
       "      <td>Saturday</td>\n",
       "      <td>31</td>\n",
       "      <td>True</td>\n",
       "      <td>True</td>\n",
       "      <td>0</td>\n",
       "      <td>0</td>\n",
       "    </tr>\n",
       "    <tr>\n",
       "      <th>1842900</th>\n",
       "      <td>M</td>\n",
       "      <td>67.0</td>\n",
       "      <td>4638417</td>\n",
       "      <td>661</td>\n",
       "      <td>30/08/2024</td>\n",
       "      <td>11:04:13</td>\n",
       "      <td>068</td>\n",
       "      <td>31/08/2024</td>\n",
       "      <td>20:54:18</td>\n",
       "      <td>2024-08-30 11:04:13</td>\n",
       "      <td>...</td>\n",
       "      <td>11</td>\n",
       "      <td>Friday</td>\n",
       "      <td>30</td>\n",
       "      <td>20</td>\n",
       "      <td>Saturday</td>\n",
       "      <td>31</td>\n",
       "      <td>True</td>\n",
       "      <td>True</td>\n",
       "      <td>3</td>\n",
       "      <td>0</td>\n",
       "    </tr>\n",
       "  </tbody>\n",
       "</table>\n",
       "<p>1842901 rows × 24 columns</p>\n",
       "</div>"
      ],
      "text/plain": [
       "        Genero_Usuario  Edad_Usuario     Bici Ciclo_Estacion_Retiro  \\\n",
       "0                    O          53.0  2199032                   331   \n",
       "1                    F          20.0  3530268                   104   \n",
       "2                    M          32.0  5796800                   008   \n",
       "3                    M          32.0  2354306                   077   \n",
       "4                    M          37.0  7424112                   054   \n",
       "...                ...           ...      ...                   ...   \n",
       "1842896              F          28.0  2815322                   068   \n",
       "1842897              M          65.0  5808704                   047   \n",
       "1842898              M          52.0  4843876                   389   \n",
       "1842899              M          22.0  4882494                   179   \n",
       "1842900              M          67.0  4638417                   661   \n",
       "\n",
       "        Fecha_Retiro Hora_Retiro Ciclo_Estacion_Arribo Fecha_Arribo  \\\n",
       "0         01/08/2024    00:01:50                   312   01/08/2024   \n",
       "1         01/08/2024    00:00:06                   055   01/08/2024   \n",
       "2         01/08/2024    00:00:47                   026   01/08/2024   \n",
       "3         01/08/2024    00:02:05                   068   01/08/2024   \n",
       "4         01/08/2024    00:01:28                   154   01/08/2024   \n",
       "...              ...         ...                   ...          ...   \n",
       "1842896   30/08/2024    22:14:49                   078   31/08/2024   \n",
       "1842897   30/08/2024    14:27:32                   133   31/08/2024   \n",
       "1842898   30/08/2024    23:55:19                   660   31/08/2024   \n",
       "1842899   30/08/2024    17:05:42                   258   31/08/2024   \n",
       "1842900   30/08/2024    11:04:13                   068   31/08/2024   \n",
       "\n",
       "        Hora_Arribo Fecha_Retiro_DateTime  ... Hora_Retiro_Digito  \\\n",
       "0          00:04:26   2024-08-01 00:01:50  ...                  0   \n",
       "1          00:05:00   2024-08-01 00:00:06  ...                  0   \n",
       "2          00:05:22   2024-08-01 00:00:47  ...                  0   \n",
       "3          00:05:27   2024-08-01 00:02:05  ...                  0   \n",
       "4          00:05:52   2024-08-01 00:01:28  ...                  0   \n",
       "...             ...                   ...  ...                ...   \n",
       "1842896    07:49:36   2024-08-30 22:14:49  ...                 22   \n",
       "1842897    10:00:09   2024-08-30 14:27:32  ...                 14   \n",
       "1842898    10:30:14   2024-08-30 23:55:19  ...                 23   \n",
       "1842899    17:23:14   2024-08-30 17:05:42  ...                 17   \n",
       "1842900    20:54:18   2024-08-30 11:04:13  ...                 11   \n",
       "\n",
       "        Dia_Semana_Retiro  Dia_Retiro_Digito Hora_Arribo_Digito  \\\n",
       "0                Thursday                  1                  0   \n",
       "1                Thursday                  1                  0   \n",
       "2                Thursday                  1                  0   \n",
       "3                Thursday                  1                  0   \n",
       "4                Thursday                  1                  0   \n",
       "...                   ...                ...                ...   \n",
       "1842896            Friday                 30                  7   \n",
       "1842897            Friday                 30                 10   \n",
       "1842898            Friday                 30                 10   \n",
       "1842899            Friday                 30                 17   \n",
       "1842900            Friday                 30                 20   \n",
       "\n",
       "         Dia_Semana_Arribo Dia_Arribo_Digito  Retiro_Valido  Arribo_Valido  \\\n",
       "0                 Thursday                 1           True           True   \n",
       "1                 Thursday                 1           True           True   \n",
       "2                 Thursday                 1           True           True   \n",
       "3                 Thursday                 1           True           True   \n",
       "4                 Thursday                 1           True           True   \n",
       "...                    ...               ...            ...            ...   \n",
       "1842896           Saturday                31           True           True   \n",
       "1842897           Saturday                31           True           True   \n",
       "1842898           Saturday                31           True           True   \n",
       "1842899           Saturday                31           True           True   \n",
       "1842900           Saturday                31           True           True   \n",
       "\n",
       "        Cluster_Retiro  Cluster_Arribo  \n",
       "0                    3               3  \n",
       "1                    4               4  \n",
       "2                    4               4  \n",
       "3                    0               0  \n",
       "4                    0               0  \n",
       "...                ...             ...  \n",
       "1842896              0               0  \n",
       "1842897              0               4  \n",
       "1842898              3               3  \n",
       "1842899              0               0  \n",
       "1842900              3               0  \n",
       "\n",
       "[1842901 rows x 24 columns]"
      ]
     },
     "execution_count": 32,
     "metadata": {},
     "output_type": "execute_result"
    }
   ],
   "source": [
    "# Retiro\n",
    "df_viajes_ciclo_estaciones_validas_cluster_retiro = pd.merge(\n",
    "    df_viajes_ciclo_estaciones_validas,\n",
    "    df_ciclo_estaciones[['short_name', 'cluster']],\n",
    "    left_on='Ciclo_Estacion_Retiro',\n",
    "    right_on='short_name',\n",
    "    how='left'\n",
    ")\n",
    "\n",
    "df_viajes_ciclo_estaciones_validas_cluster_retiro = df_viajes_ciclo_estaciones_validas_cluster_retiro.rename(\n",
    "    columns={'cluster': 'Cluster_Retiro'}\n",
    ")\n",
    "\n",
    "df_viajes_ciclo_estaciones_validas_cluster_retiro = df_viajes_ciclo_estaciones_validas_cluster_retiro.drop('short_name', axis=1)\n",
    "\n",
    "# Arribo\n",
    "\n",
    "df_viajes_ciclo_estaciones_validas_cluster = pd.merge(\n",
    "    df_viajes_ciclo_estaciones_validas_cluster_retiro,\n",
    "    df_ciclo_estaciones[['short_name', 'cluster']],\n",
    "    left_on='Ciclo_Estacion_Arribo',\n",
    "    right_on='short_name',\n",
    "    how='left'\n",
    ")\n",
    "\n",
    "df_viajes_ciclo_estaciones_validas_cluster = df_viajes_ciclo_estaciones_validas_cluster.rename(\n",
    "    columns={'cluster': 'Cluster_Arribo'}\n",
    ")\n",
    "\n",
    "df_viajes_ciclo_estaciones_validas_cluster = df_viajes_ciclo_estaciones_validas_cluster.drop('short_name', axis=1)\n",
    "\n",
    "df_viajes_ciclo_estaciones_validas_cluster\n"
   ]
  },
  {
   "cell_type": "markdown",
   "id": "1d96a281-a68f-4658-8067-b7d15c101661",
   "metadata": {},
   "source": [
    "#### Eliminación de nulos"
   ]
  },
  {
   "cell_type": "code",
   "execution_count": 33,
   "id": "1b44151e-b05d-40a8-ad7b-bc0104faf899",
   "metadata": {},
   "outputs": [
    {
     "data": {
      "text/plain": [
       "Genero_Usuario            15\n",
       "Edad_Usuario              19\n",
       "Bici                       0\n",
       "Ciclo_Estacion_Retiro      0\n",
       "Fecha_Retiro               0\n",
       "Hora_Retiro                0\n",
       "Ciclo_Estacion_Arribo      0\n",
       "Fecha_Arribo               0\n",
       "Hora_Arribo                0\n",
       "Fecha_Retiro_DateTime      0\n",
       "Fecha_Arribo_DateTime      0\n",
       "Grupo_Edad                19\n",
       "Duracion_viaje_minutos     0\n",
       "Duracion_viaje             0\n",
       "Hora_Retiro_Digito         0\n",
       "Dia_Semana_Retiro          0\n",
       "Dia_Retiro_Digito          0\n",
       "Hora_Arribo_Digito         0\n",
       "Dia_Semana_Arribo          0\n",
       "Dia_Arribo_Digito          0\n",
       "Retiro_Valido              0\n",
       "Arribo_Valido              0\n",
       "Cluster_Retiro             0\n",
       "Cluster_Arribo             0\n",
       "dtype: int64"
      ]
     },
     "execution_count": 33,
     "metadata": {},
     "output_type": "execute_result"
    }
   ],
   "source": [
    "# Validando nulos\n",
    "df_viajes_ciclo_estaciones_validas_cluster.isnull().sum()"
   ]
  },
  {
   "cell_type": "code",
   "execution_count": 34,
   "id": "45b21aa3-854b-4ba5-909f-caabd3980ecf",
   "metadata": {},
   "outputs": [],
   "source": [
    "# Eliminando nulos\n",
    "\n",
    "df_viajes_limpio = df_viajes_ciclo_estaciones_validas_cluster.dropna()"
   ]
  },
  {
   "cell_type": "code",
   "execution_count": 35,
   "id": "6de2fcc1-0cd6-4933-bc0c-7aeba61f0185",
   "metadata": {},
   "outputs": [
    {
     "data": {
      "text/plain": [
       "Genero_Usuario            0\n",
       "Edad_Usuario              0\n",
       "Bici                      0\n",
       "Ciclo_Estacion_Retiro     0\n",
       "Fecha_Retiro              0\n",
       "Hora_Retiro               0\n",
       "Ciclo_Estacion_Arribo     0\n",
       "Fecha_Arribo              0\n",
       "Hora_Arribo               0\n",
       "Fecha_Retiro_DateTime     0\n",
       "Fecha_Arribo_DateTime     0\n",
       "Grupo_Edad                0\n",
       "Duracion_viaje_minutos    0\n",
       "Duracion_viaje            0\n",
       "Hora_Retiro_Digito        0\n",
       "Dia_Semana_Retiro         0\n",
       "Dia_Retiro_Digito         0\n",
       "Hora_Arribo_Digito        0\n",
       "Dia_Semana_Arribo         0\n",
       "Dia_Arribo_Digito         0\n",
       "Retiro_Valido             0\n",
       "Arribo_Valido             0\n",
       "Cluster_Retiro            0\n",
       "Cluster_Arribo            0\n",
       "dtype: int64"
      ]
     },
     "execution_count": 35,
     "metadata": {},
     "output_type": "execute_result"
    }
   ],
   "source": [
    "df_viajes_limpio.isnull().sum()"
   ]
  },
  {
   "cell_type": "code",
   "execution_count": 36,
   "id": "0f3e0799-6033-41d0-9223-8ff64340a66e",
   "metadata": {},
   "outputs": [],
   "source": [
    "# Eliminando columnas no necesarias\n",
    "df_viajes_depurado = df_viajes_limpio.drop(columns=[\n",
    "    'Fecha_Retiro',\n",
    "    'Hora_Retiro',\n",
    "    'Fecha_Arribo',\n",
    "    'Hora_Arribo',\n",
    "    'Retiro_Valido',\n",
    "    'Arribo_Valido'\n",
    "])\n"
   ]
  },
  {
   "cell_type": "code",
   "execution_count": 37,
   "id": "536b341a-cf7e-4c0a-8064-7fb57d11e146",
   "metadata": {},
   "outputs": [
    {
     "name": "stdout",
     "output_type": "stream",
     "text": [
      "Total viajes: 1,842,882\n"
     ]
    }
   ],
   "source": [
    "print(f\"Total viajes: {len(df_viajes_depurado):,}\")"
   ]
  },
  {
   "cell_type": "code",
   "execution_count": 38,
   "id": "612e7423-c9f0-4720-b1f8-0d30ac2b55ef",
   "metadata": {},
   "outputs": [
    {
     "name": "stdout",
     "output_type": "stream",
     "text": [
      "<class 'pandas.core.frame.DataFrame'>\n",
      "Index: 1842882 entries, 0 to 1842900\n",
      "Data columns (total 18 columns):\n",
      " #   Column                  Dtype         \n",
      "---  ------                  -----         \n",
      " 0   Genero_Usuario          object        \n",
      " 1   Edad_Usuario            float64       \n",
      " 2   Bici                    int64         \n",
      " 3   Ciclo_Estacion_Retiro   object        \n",
      " 4   Ciclo_Estacion_Arribo   object        \n",
      " 5   Fecha_Retiro_DateTime   datetime64[ns]\n",
      " 6   Fecha_Arribo_DateTime   datetime64[ns]\n",
      " 7   Grupo_Edad              category      \n",
      " 8   Duracion_viaje_minutos  float64       \n",
      " 9   Duracion_viaje          object        \n",
      " 10  Hora_Retiro_Digito      int32         \n",
      " 11  Dia_Semana_Retiro       object        \n",
      " 12  Dia_Retiro_Digito       int32         \n",
      " 13  Hora_Arribo_Digito      int32         \n",
      " 14  Dia_Semana_Arribo       object        \n",
      " 15  Dia_Arribo_Digito       int32         \n",
      " 16  Cluster_Retiro          int64         \n",
      " 17  Cluster_Arribo          int64         \n",
      "dtypes: category(1), datetime64[ns](2), float64(2), int32(4), int64(3), object(6)\n",
      "memory usage: 226.7+ MB\n"
     ]
    }
   ],
   "source": [
    "df_viajes_depurado.info()"
   ]
  },
  {
   "cell_type": "markdown",
   "id": "a20857fb-cc35-47dd-af74-1d92f4582922",
   "metadata": {},
   "source": [
    "## Exportando viajes válidos en formato CSV"
   ]
  },
  {
   "cell_type": "code",
   "execution_count": 39,
   "id": "487c2c9d-467e-4405-8693-1ab23e054701",
   "metadata": {},
   "outputs": [],
   "source": [
    "df_viajes_depurado.to_csv('viajes_data_limpia.csv', index=False)"
   ]
  }
 ],
 "metadata": {
  "kernelspec": {
   "display_name": "Python 3 (ipykernel)",
   "language": "python",
   "name": "python3"
  },
  "language_info": {
   "codemirror_mode": {
    "name": "ipython",
    "version": 3
   },
   "file_extension": ".py",
   "mimetype": "text/x-python",
   "name": "python",
   "nbconvert_exporter": "python",
   "pygments_lexer": "ipython3",
   "version": "3.12.5"
  }
 },
 "nbformat": 4,
 "nbformat_minor": 5
}
